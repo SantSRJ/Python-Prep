{
 "cells": [
  {
   "cell_type": "markdown",
   "metadata": {},
   "source": [
    "## Estructuras de Datos\n",
    "\n",
    "1) Crear una lista que contenga nombres de ciudades del mundo que contenga más de 5 elementos e imprimir por pantalla"
   ]
  },
  {
   "cell_type": "code",
   "execution_count": 5,
   "metadata": {},
   "outputs": [
    {
     "name": "stdout",
     "output_type": "stream",
     "text": [
      "['La Plata', 'Amsterdam', 'New York', 'Sidney', 'Lima', 'Barcelona', 'Porto', 'Versalles', 'Nueva Delhi']\n"
     ]
    }
   ],
   "source": [
    "\n",
    "mi_lista = ['La Plata', 'Amsterdam', 'New York', 'Sidney', 'Lima', 'Barcelona', 'Porto', 'Versalles', 'Nueva Delhi']\n",
    "print(mi_lista)"
   ]
  },
  {
   "cell_type": "markdown",
   "metadata": {},
   "source": [
    "2) Imprimir por pantalla el segundo elemento de la lista"
   ]
  },
  {
   "cell_type": "code",
   "execution_count": 9,
   "metadata": {},
   "outputs": [
    {
     "name": "stdout",
     "output_type": "stream",
     "text": [
      "Amsterdam\n"
     ]
    }
   ],
   "source": [
    "print(mi_lista[1])"
   ]
  },
  {
   "cell_type": "markdown",
   "metadata": {},
   "source": [
    "3) Imprimir por pantalla del segundo al cuarto elemento"
   ]
  },
  {
   "cell_type": "code",
   "execution_count": 11,
   "metadata": {},
   "outputs": [
    {
     "name": "stdout",
     "output_type": "stream",
     "text": [
      "['Amsterdam', 'New York', 'Sidney']\n"
     ]
    }
   ],
   "source": [
    "print(mi_lista[1:4])"
   ]
  },
  {
   "cell_type": "markdown",
   "metadata": {},
   "source": [
    "4) Visualizar el tipo de dato de la lista"
   ]
  },
  {
   "cell_type": "code",
   "execution_count": 12,
   "metadata": {},
   "outputs": [
    {
     "name": "stdout",
     "output_type": "stream",
     "text": [
      "<class 'str'>\n"
     ]
    }
   ],
   "source": [
    "print(type(mi_lista[2]))"
   ]
  },
  {
   "cell_type": "markdown",
   "metadata": {},
   "source": [
    "5) Visualizar todos los elementos de la lista a partir del tercero de manera genérica, es decir, sin explicitar la posición del último elemento\n"
   ]
  },
  {
   "cell_type": "code",
   "execution_count": 14,
   "metadata": {},
   "outputs": [
    {
     "name": "stdout",
     "output_type": "stream",
     "text": [
      "['New York', 'Sidney', 'Lima', 'Barcelona', 'Porto', 'Versalles', 'Nueva Delhi']\n"
     ]
    }
   ],
   "source": [
    "print(mi_lista[2:])"
   ]
  },
  {
   "cell_type": "markdown",
   "metadata": {},
   "source": [
    "6) Visualizar los primeros 4 elementos de la lista\n"
   ]
  },
  {
   "cell_type": "code",
   "execution_count": 15,
   "metadata": {},
   "outputs": [
    {
     "name": "stdout",
     "output_type": "stream",
     "text": [
      "['La Plata', 'Amsterdam', 'New York', 'Sidney']\n"
     ]
    }
   ],
   "source": [
    "print(mi_lista[:4])"
   ]
  },
  {
   "cell_type": "markdown",
   "metadata": {},
   "source": [
    "7) Agregar una ciudad más a la lista que ya exista y otra que no ¿Arroja algún tipo de error?"
   ]
  },
  {
   "cell_type": "code",
   "execution_count": 21,
   "metadata": {},
   "outputs": [
    {
     "name": "stdout",
     "output_type": "stream",
     "text": [
      "['La Plata', 'Amsterdam', 'New York', 'Sidney', 'Lima', 'Barcelona', 'Porto', 'Versalles', 'Nueva Delhi', 'Bruselas', 'Bruselas', 'Bruselas', 'Bruselas']\n",
      "['La Plata', 'Amsterdam', 'New York', 'Sidney', 'Lima', 'Barcelona', 'Porto', 'Versalles', 'Nueva Delhi', 'Bruselas', 'Bruselas', 'Bruselas', 'Bruselas', 'Nueva York']\n"
     ]
    }
   ],
   "source": [
    "mi_lista.append('Bruselas')\n",
    "print(mi_lista)\n",
    "mi_lista.append('Nueva York')\n",
    "print(mi_lista)\n",
    "# No arroja ningún error"
   ]
  },
  {
   "cell_type": "markdown",
   "metadata": {},
   "source": [
    "8) Agregar otra ciudad, pero en la cuarta posición"
   ]
  },
  {
   "cell_type": "code",
   "execution_count": 30,
   "metadata": {},
   "outputs": [
    {
     "name": "stdout",
     "output_type": "stream",
     "text": [
      "['La Plata', 'Amsterdam', 'New York', 'Tokio', 'Sidney', 'Lima', 'Barcelona', 'Porto', 'Versalles', 'Nueva Delhi', 'Bruselas', 'Bruselas', 'Bruselas', 'Bruselas', 'Nueva York']\n"
     ]
    }
   ],
   "source": [
    "mi_lista.insert(3,'Tokio')\n",
    "print(mi_lista)"
   ]
  },
  {
   "cell_type": "markdown",
   "metadata": {},
   "source": [
    "9) Concatenar otra lista a la ya creada"
   ]
  },
  {
   "cell_type": "code",
   "execution_count": 34,
   "metadata": {},
   "outputs": [
    {
     "name": "stdout",
     "output_type": "stream",
     "text": [
      "['La Plata', 'Amsterdam', 'New York', 'Tokio', 'Sidney', 'Lima', 'Barcelona', 'Porto', 'Versalles', 'Nueva Delhi', 'Bruselas', 'Bruselas', 'Bruselas', 'Bruselas', 'Nueva York', 'Roma', 'Cataluña', 'Valparaíso', 'Mar del Plata', 'Miraflores', 'Roma', 'Cataluña', 'Valparaíso', 'Mar del Plata', 'Miraflores', 'Roma', 'Cataluña', 'Valparaíso', 'Mar del Plata', 'Miraflores']\n"
     ]
    }
   ],
   "source": [
    "mi_lista.extend(['Roma', 'Cataluña', 'Valparaíso', 'Mar del Plata', 'Miraflores'])\n",
    "print(mi_lista)"
   ]
  },
  {
   "cell_type": "markdown",
   "metadata": {},
   "source": [
    "10) Encontrar el índice de la ciudad que en el punto 7 agregamos duplicada. ¿Se nota alguna particularidad?"
   ]
  },
  {
   "cell_type": "code",
   "execution_count": 37,
   "metadata": {},
   "outputs": [
    {
     "name": "stdout",
     "output_type": "stream",
     "text": [
      "14\n"
     ]
    }
   ],
   "source": [
    "print(mi_lista.index('Nueva York'))\n",
    "# Arroja el último lugar en el que aparece"
   ]
  },
  {
   "cell_type": "markdown",
   "metadata": {},
   "source": [
    "11) ¿Qué pasa si se busca un elemento que no existe?"
   ]
  },
  {
   "cell_type": "code",
   "execution_count": 38,
   "metadata": {},
   "outputs": [
    {
     "ename": "ValueError",
     "evalue": "'La Paz' is not in list",
     "output_type": "error",
     "traceback": [
      "\u001b[1;31m---------------------------------------------------------------------------\u001b[0m",
      "\u001b[1;31mValueError\u001b[0m                                Traceback (most recent call last)",
      "\u001b[1;32md:\\Usuario\\Desktop\\Python-Prep\\04 - Estructuras de datos\\Prep_Course_Homework_04-Resuelto_Mendoza_Santiago.ipynb Cell 22'\u001b[0m in \u001b[0;36m<cell line: 1>\u001b[1;34m()\u001b[0m\n\u001b[1;32m----> <a href='vscode-notebook-cell:/d%3A/Usuario/Desktop/Python-Prep/04%20-%20Estructuras%20de%20datos/Prep_Course_Homework_04-Resuelto_Mendoza_Santiago.ipynb#ch0000037?line=0'>1</a>\u001b[0m \u001b[39mprint\u001b[39m(mi_lista\u001b[39m.\u001b[39;49mindex(\u001b[39m'\u001b[39;49m\u001b[39mLa Paz\u001b[39;49m\u001b[39m'\u001b[39;49m))\n",
      "\u001b[1;31mValueError\u001b[0m: 'La Paz' is not in list"
     ]
    }
   ],
   "source": [
    "print(mi_lista.index('La Paz'))\n",
    "# Arroja error y aclara que el elemento no se encuentra en la lista"
   ]
  },
  {
   "cell_type": "markdown",
   "metadata": {},
   "source": [
    "12) Eliminar un elemento de la lista"
   ]
  },
  {
   "cell_type": "code",
   "execution_count": 47,
   "metadata": {},
   "outputs": [
    {
     "name": "stdout",
     "output_type": "stream",
     "text": [
      "['La Plata', 'Amsterdam', 'New York', 'Tokio', 'Sidney', 'Lima', 'Barcelona', 'Porto', 'Versalles', 'Nueva Delhi', 'Nueva York', 'Roma', 'Cataluña', 'Valparaíso', 'Roma', 'Cataluña', 'Valparaíso', 'Roma', 'Cataluña', 'Valparaíso', 'Mar del Plata']\n"
     ]
    }
   ],
   "source": [
    "mi_lista.remove('Mar del Plata')\n",
    "print(mi_lista)"
   ]
  },
  {
   "cell_type": "markdown",
   "metadata": {},
   "source": [
    "13) ¿Qué pasa si el elemento a eliminar no existe?"
   ]
  },
  {
   "cell_type": "code",
   "execution_count": 48,
   "metadata": {},
   "outputs": [
    {
     "ename": "ValueError",
     "evalue": "list.remove(x): x not in list",
     "output_type": "error",
     "traceback": [
      "\u001b[1;31m---------------------------------------------------------------------------\u001b[0m",
      "\u001b[1;31mValueError\u001b[0m                                Traceback (most recent call last)",
      "\u001b[1;32md:\\Usuario\\Desktop\\Python-Prep\\04 - Estructuras de datos\\Prep_Course_Homework_04-Resuelto_Mendoza_Santiago.ipynb Cell 26'\u001b[0m in \u001b[0;36m<cell line: 1>\u001b[1;34m()\u001b[0m\n\u001b[1;32m----> <a href='vscode-notebook-cell:/d%3A/Usuario/Desktop/Python-Prep/04%20-%20Estructuras%20de%20datos/Prep_Course_Homework_04-Resuelto_Mendoza_Santiago.ipynb#ch0000039?line=0'>1</a>\u001b[0m mi_lista\u001b[39m.\u001b[39;49mremove(\u001b[39m'\u001b[39;49m\u001b[39mMadrid\u001b[39;49m\u001b[39m'\u001b[39;49m)\n\u001b[0;32m      <a href='vscode-notebook-cell:/d%3A/Usuario/Desktop/Python-Prep/04%20-%20Estructuras%20de%20datos/Prep_Course_Homework_04-Resuelto_Mendoza_Santiago.ipynb#ch0000039?line=1'>2</a>\u001b[0m \u001b[39mprint\u001b[39m(mi_lista)\n",
      "\u001b[1;31mValueError\u001b[0m: list.remove(x): x not in list"
     ]
    }
   ],
   "source": [
    "mi_lista.remove('Madrid')\n",
    "print(mi_lista)\n",
    "# Arroja error y aclara que el elemento no se encuentra en la lista"
   ]
  },
  {
   "cell_type": "markdown",
   "metadata": {},
   "source": [
    "14) Extraer el úlimo elemento de la lista, guardarlo en una variable e imprimirlo"
   ]
  },
  {
   "cell_type": "code",
   "execution_count": 49,
   "metadata": {},
   "outputs": [
    {
     "name": "stdout",
     "output_type": "stream",
     "text": [
      "Mar del Plata\n"
     ]
    }
   ],
   "source": [
    "new = mi_lista.pop()\n",
    "print(new)\n"
   ]
  },
  {
   "cell_type": "markdown",
   "metadata": {},
   "source": [
    "15) Mostrar la lista multiplicada por 4"
   ]
  },
  {
   "cell_type": "code",
   "execution_count": 50,
   "metadata": {},
   "outputs": [
    {
     "name": "stdout",
     "output_type": "stream",
     "text": [
      "['La Plata', 'Amsterdam', 'New York', 'Tokio', 'Sidney', 'Lima', 'Barcelona', 'Porto', 'Versalles', 'Nueva Delhi', 'Nueva York', 'Roma', 'Cataluña', 'Valparaíso', 'Roma', 'Cataluña', 'Valparaíso', 'Roma', 'Cataluña', 'Valparaíso', 'La Plata', 'Amsterdam', 'New York', 'Tokio', 'Sidney', 'Lima', 'Barcelona', 'Porto', 'Versalles', 'Nueva Delhi', 'Nueva York', 'Roma', 'Cataluña', 'Valparaíso', 'Roma', 'Cataluña', 'Valparaíso', 'Roma', 'Cataluña', 'Valparaíso', 'La Plata', 'Amsterdam', 'New York', 'Tokio', 'Sidney', 'Lima', 'Barcelona', 'Porto', 'Versalles', 'Nueva Delhi', 'Nueva York', 'Roma', 'Cataluña', 'Valparaíso', 'Roma', 'Cataluña', 'Valparaíso', 'Roma', 'Cataluña', 'Valparaíso', 'La Plata', 'Amsterdam', 'New York', 'Tokio', 'Sidney', 'Lima', 'Barcelona', 'Porto', 'Versalles', 'Nueva Delhi', 'Nueva York', 'Roma', 'Cataluña', 'Valparaíso', 'Roma', 'Cataluña', 'Valparaíso', 'Roma', 'Cataluña', 'Valparaíso']\n"
     ]
    }
   ],
   "source": [
    "print(mi_lista * 4)"
   ]
  },
  {
   "cell_type": "markdown",
   "metadata": {},
   "source": [
    "16) Crear una tupla que contenga los números enteros del 1 al 20"
   ]
  },
  {
   "cell_type": "code",
   "execution_count": 59,
   "metadata": {},
   "outputs": [
    {
     "name": "stdout",
     "output_type": "stream",
     "text": [
      "<class 'tuple'>\n",
      "(1, 2, 3, 4, 5, 6, 7, 8, 9, 10, 11, 12, 13, 14, 15, 16, 17, 18, 19, 20)\n"
     ]
    }
   ],
   "source": [
    "mi_lista2 = (1, 2, 3, 4, 5, 6, 7, 8 , 9 , 10, 11, 12, 13, 14, 15, 16, 17, 18, 19, 20)\n",
    "print(type(mi_lista2))\n",
    "print(mi_lista2)"
   ]
  },
  {
   "cell_type": "markdown",
   "metadata": {},
   "source": [
    "17) Imprimir desde el índice 10 al 15 de la tupla"
   ]
  },
  {
   "cell_type": "code",
   "execution_count": 60,
   "metadata": {},
   "outputs": [
    {
     "name": "stdout",
     "output_type": "stream",
     "text": [
      "(11, 12, 13, 14, 15, 16)\n"
     ]
    }
   ],
   "source": [
    "print(mi_lista2 [10:16])"
   ]
  },
  {
   "cell_type": "markdown",
   "metadata": {},
   "source": [
    "18) Evaluar si los números 20 y 30 están dentro de la tupla"
   ]
  },
  {
   "cell_type": "code",
   "execution_count": 63,
   "metadata": {},
   "outputs": [
    {
     "name": "stdout",
     "output_type": "stream",
     "text": [
      "True\n",
      "False\n"
     ]
    }
   ],
   "source": [
    "print(20 in mi_lista2)\n",
    "print(30 in mi_lista2)\n"
   ]
  },
  {
   "cell_type": "markdown",
   "metadata": {},
   "source": [
    "19) Con la lista creada en el punto 1, validar la existencia del elemento 'París' y si no existe, agregarlo. Utilizar una variable e informar lo sucedido."
   ]
  },
  {
   "cell_type": "code",
   "execution_count": 68,
   "metadata": {},
   "outputs": [
    {
     "name": "stdout",
     "output_type": "stream",
     "text": [
      "El elemento  París  fue añadido a la lista\n",
      "['La Plata', 'Amsterdam', 'New York', 'Tokio', 'Sidney', 'Lima', 'Barcelona', 'Porto', 'Versalles', 'Nueva Delhi', 'Nueva York', 'Roma', 'Cataluña', 'Valparaíso', 'Roma', 'Cataluña', 'Valparaíso', 'Roma', 'Cataluña', 'Valparaíso', 'París']\n"
     ]
    }
   ],
   "source": [
    "elemento = 'París'\n",
    "if (not elemento in mi_lista):\n",
    "    mi_lista.append(elemento)\n",
    "    print('El elemento ', elemento, ' fue añadido a la lista')\n",
    "    print(mi_lista)\n",
    "else:\n",
    "    print('El elemento ', elemento, ' ya se encontraba en la lista')"
   ]
  },
  {
   "cell_type": "markdown",
   "metadata": {},
   "source": [
    "20) Mostrar la cantidad de veces que se encuentra un elemento específico dentro de la tupla y de la lista"
   ]
  },
  {
   "cell_type": "code",
   "execution_count": 70,
   "metadata": {},
   "outputs": [
    {
     "name": "stdout",
     "output_type": "stream",
     "text": [
      "1\n",
      "3\n"
     ]
    }
   ],
   "source": [
    "print(mi_lista2.count(3))\n",
    "print(mi_lista.count('Valparaíso'))"
   ]
  },
  {
   "cell_type": "markdown",
   "metadata": {},
   "source": [
    "21) Convertir la tupla en una lista"
   ]
  },
  {
   "cell_type": "code",
   "execution_count": 72,
   "metadata": {},
   "outputs": [
    {
     "name": "stdout",
     "output_type": "stream",
     "text": [
      "<class 'list'>\n",
      "[1, 2, 3, 4, 5, 6, 7, 8, 9, 10, 11, 12, 13, 14, 15, 16, 17, 18, 19, 20]\n"
     ]
    }
   ],
   "source": [
    "mi_lista2 = list(mi_lista2)\n",
    "print(type(mi_lista2))\n",
    "print(mi_lista2)"
   ]
  },
  {
   "cell_type": "markdown",
   "metadata": {},
   "source": [
    "22) Desempaquetar solo los primeros 3 elementos de la tupla en 3 variables"
   ]
  },
  {
   "cell_type": "code",
   "execution_count": 74,
   "metadata": {},
   "outputs": [
    {
     "name": "stdout",
     "output_type": "stream",
     "text": [
      "1\n",
      "2\n",
      "3\n"
     ]
    }
   ],
   "source": [
    "num1, num2, num3, _, _, _, _, _, _, _, _, _, _, _, _, _, _, _, _, _, = mi_lista2\n",
    "print(num1)\n",
    "print(num2)\n",
    "print(num3)\n"
   ]
  },
  {
   "cell_type": "markdown",
   "metadata": {},
   "source": [
    "23) Crear un diccionario utilizando la lista crada en el punto 1, asignandole la clave \"ciudad\". Agregar tambien otras claves, como puede ser \"Pais\" y \"Continente\"."
   ]
  },
  {
   "cell_type": "code",
   "execution_count": 82,
   "metadata": {},
   "outputs": [
    {
     "name": "stdout",
     "output_type": "stream",
     "text": [
      "{'Ciudad': ['La Plata', 'Amsterdam', 'New York', 'Tokio', 'Sidney', 'Lima', 'Barcelona', 'Porto', 'Versalles', 'Nueva Delhi', 'Nueva York', 'Roma', 'Cataluña', 'Valparaíso', 'Roma', 'Cataluña', 'Valparaíso', 'Roma', 'Cataluña', 'Valparaíso', 'París'], 'País': ['Argentina', 'Brasil', 'Chile', 'Canadá', 'Egipto'], 'Continente': ['América', 'Europa', 'Asia', 'Oceanía']}\n"
     ]
    }
   ],
   "source": [
    "mi_diccionario = {'Ciudad' : mi_lista,\n",
    "                'País': ['Argentina', 'Brasil', 'Chile', 'Canadá', 'Egipto'], \n",
    "                'Continente': ['América', 'Europa', 'Asia', 'Oceanía']}\n",
    "print(mi_diccionario)"
   ]
  },
  {
   "cell_type": "markdown",
   "metadata": {},
   "source": [
    "24) Imprimir las claves del diccionario"
   ]
  },
  {
   "cell_type": "code",
   "execution_count": 84,
   "metadata": {},
   "outputs": [
    {
     "name": "stdout",
     "output_type": "stream",
     "text": [
      "dict_keys(['Ciudad', 'País', 'Continente'])\n"
     ]
    }
   ],
   "source": [
    "print(mi_diccionario.keys())"
   ]
  },
  {
   "cell_type": "markdown",
   "metadata": {},
   "source": [
    "25) Imprimir las ciudades a través de su clave"
   ]
  },
  {
   "cell_type": "code",
   "execution_count": 85,
   "metadata": {},
   "outputs": [
    {
     "name": "stdout",
     "output_type": "stream",
     "text": [
      "['La Plata', 'Amsterdam', 'New York', 'Tokio', 'Sidney', 'Lima', 'Barcelona', 'Porto', 'Versalles', 'Nueva Delhi', 'Nueva York', 'Roma', 'Cataluña', 'Valparaíso', 'Roma', 'Cataluña', 'Valparaíso', 'Roma', 'Cataluña', 'Valparaíso', 'París']\n"
     ]
    }
   ],
   "source": [
    "print(mi_diccionario['Ciudad'])"
   ]
  }
 ],
 "metadata": {
  "kernelspec": {
   "display_name": "Python 3.10.2 64-bit",
   "language": "python",
   "name": "python3"
  },
  "language_info": {
   "codemirror_mode": {
    "name": "ipython",
    "version": 3
   },
   "file_extension": ".py",
   "mimetype": "text/x-python",
   "name": "python",
   "nbconvert_exporter": "python",
   "pygments_lexer": "ipython3",
   "version": "3.10.2"
  },
  "orig_nbformat": 4,
  "vscode": {
   "interpreter": {
    "hash": "ca9c28a0138cdec0db31412b2f82dd57d4737111732944e17b0911299920d9aa"
   }
  }
 },
 "nbformat": 4,
 "nbformat_minor": 2
}
